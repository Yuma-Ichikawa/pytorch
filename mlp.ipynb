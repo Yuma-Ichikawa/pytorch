{
  "nbformat": 4,
  "nbformat_minor": 0,
  "metadata": {
    "colab": {
      "name": "mlp.ipynb",
      "provenance": [],
      "collapsed_sections": [],
      "authorship_tag": "ABX9TyMdWH0CaxgoBbchaS6SfJn6",
      "include_colab_link": true
    },
    "kernelspec": {
      "name": "python3",
      "display_name": "Python 3"
    },
    "accelerator": "GPU"
  },
  "cells": [
    {
      "cell_type": "markdown",
      "metadata": {
        "id": "view-in-github",
        "colab_type": "text"
      },
      "source": [
        "<a href=\"https://colab.research.google.com/github/Yuma-Ichikawa/pytorch/blob/master/mlp.ipynb\" target=\"_parent\"><img src=\"https://colab.research.google.com/assets/colab-badge.svg\" alt=\"Open In Colab\"/></a>"
      ]
    },
    {
      "cell_type": "markdown",
      "metadata": {
        "id": "qamBkSjooBwN"
      },
      "source": [
        "# MLPの作成"
      ]
    },
    {
      "cell_type": "markdown",
      "metadata": {
        "id": "aJyApx8voG21"
      },
      "source": [
        "### 必要なライブラリをインポート"
      ]
    },
    {
      "cell_type": "code",
      "metadata": {
        "id": "QmA1MvQ-HseW"
      },
      "source": [
        "import torch\n",
        "import torchvision\n",
        "import torch.nn as nn\n",
        "import torch.nn.functional as F\n",
        "import torch.optim as optim\n",
        "import torchvision.transforms as transforms\n",
        "import numpy as np\n",
        "import matplotlib.pyplot as plt\n",
        "%matplotlib inline\n",
        "\n",
        "# グラフのスタイル\n",
        "plt.style.use('seaborn-darkgrid')"
      ],
      "execution_count": 30,
      "outputs": []
    },
    {
      "cell_type": "markdown",
      "metadata": {
        "id": "8O6g4CIUU9Cl"
      },
      "source": [
        "### MNIST Datasetを読み込む"
      ]
    },
    {
      "cell_type": "code",
      "metadata": {
        "id": "tITefJ81UzSt"
      },
      "source": [
        "# MNIST\n",
        "train_dataset = torchvision.datasets.MNIST(root='./data',\n",
        "                                           train=True,\n",
        "                                           transform=transforms.ToTensor(),\n",
        "                                           download=True)\n",
        "\n",
        "test_dataset = torchvision.datasets.MNIST(root='./data',\n",
        "                                           train=False,\n",
        "                                           transform=transforms.ToTensor(),\n",
        "                                           download=True)"
      ],
      "execution_count": 18,
      "outputs": []
    },
    {
      "cell_type": "code",
      "metadata": {
        "id": "uk1Nxg5CVqix",
        "colab": {
          "base_uri": "https://localhost:8080/"
        },
        "outputId": "6487fb52-bb7d-4e03-b3bd-88131b177830"
      },
      "source": [
        "image, label = train_dataset[0]\n",
        "print(f'{image.size()} : {label}')"
      ],
      "execution_count": 19,
      "outputs": [
        {
          "output_type": "stream",
          "text": [
            "torch.Size([1, 28, 28]) : 5\n"
          ],
          "name": "stdout"
        }
      ]
    },
    {
      "cell_type": "markdown",
      "metadata": {
        "id": "Bd6x98XlWpZL"
      },
      "source": [
        "## DataLoader\n",
        "\n",
        "DataLoaderを使用することでバッチサイズだけの画像と正解ラベルをDatasetから取り出す"
      ]
    },
    {
      "cell_type": "code",
      "metadata": {
        "id": "zXGy3PDpiMmf"
      },
      "source": [
        "batch_size = 256\n",
        "\n",
        "\n",
        "train_loader = torch.utils.data.DataLoader(dataset=train_dataset,\n",
        "                                           batch_size=batch_size,\n",
        "                                           shuffle=True)\n",
        "\n",
        "test_loader = torch.utils.data.DataLoader(dataset=test_dataset,\n",
        "                                           batch_size=batch_size,\n",
        "                                           shuffle=False)"
      ],
      "execution_count": 20,
      "outputs": []
    },
    {
      "cell_type": "code",
      "metadata": {
        "id": "kMWC48nJj8kW"
      },
      "source": [
        "for x, y in train_loader:\n",
        "    x = x\n",
        "    y = y"
      ],
      "execution_count": 21,
      "outputs": []
    },
    {
      "cell_type": "code",
      "metadata": {
        "colab": {
          "base_uri": "https://localhost:8080/"
        },
        "id": "AO4Yx5CJkB0L",
        "outputId": "f629f1c3-e25e-4717-a9d3-fe8330fca70e"
      },
      "source": [
        "x.size()"
      ],
      "execution_count": 23,
      "outputs": [
        {
          "output_type": "execute_result",
          "data": {
            "text/plain": [
              "torch.Size([96, 1, 28, 28])"
            ]
          },
          "metadata": {
            "tags": []
          },
          "execution_count": 23
        }
      ]
    },
    {
      "cell_type": "markdown",
      "metadata": {
        "id": "Ughs7R5HapPU"
      },
      "source": [
        "## ネットワークの定義"
      ]
    },
    {
      "cell_type": "code",
      "metadata": {
        "id": "7BZqH8y6u3CH",
        "colab": {
          "base_uri": "https://localhost:8080/"
        },
        "outputId": "28960b0c-88fc-4469-aee4-b716269cf0b0"
      },
      "source": [
        "num_classes = 10\n",
        "\n",
        "class Net(nn.Module):\n",
        "    def __init__(self):\n",
        "        super(Net, self).__init__()\n",
        "        self.fc1 = nn.Linear(28*28, 1024)\n",
        "        self.fc2 = nn.Linear(1024, 512)\n",
        "        self.fc3 = nn.Linear(512, num_classes)\n",
        "\n",
        "    def forward(self, x):\n",
        "        x = F.relu(self.fc1(x))\n",
        "        x = F.relu(self.fc2(x))\n",
        "        x = self.fc3(x)\n",
        "        return x\n",
        "\n",
        "print(net)"
      ],
      "execution_count": 24,
      "outputs": [
        {
          "output_type": "stream",
          "text": [
            "Net(\n",
            "  (fc1): Linear(in_features=784, out_features=1024, bias=True)\n",
            "  (fc2): Linear(in_features=1024, out_features=512, bias=True)\n",
            "  (fc3): Linear(in_features=512, out_features=10, bias=True)\n",
            ")\n"
          ],
          "name": "stdout"
        }
      ]
    },
    {
      "cell_type": "code",
      "metadata": {
        "id": "7a0xMI2gi-Px"
      },
      "source": [
        "# networkをGPUに送信\n",
        "device = 'cuda' if torch.cuda.is_available() else 'cpu'\n",
        "net = Net().to(device)"
      ],
      "execution_count": 25,
      "outputs": []
    },
    {
      "cell_type": "markdown",
      "metadata": {
        "id": "gdS7gmlldScZ"
      },
      "source": [
        "## モデルの学習"
      ]
    },
    {
      "cell_type": "code",
      "metadata": {
        "id": "Ks47lB0EdRDw"
      },
      "source": [
        "# 損失関数の設定\n",
        "criterion = nn.CrossEntropyLoss()\n",
        "\n",
        "# 最適化手法を設定\n",
        "optimizer = optim.SGD(net.parameters(), lr=0.01)"
      ],
      "execution_count": 26,
      "outputs": []
    },
    {
      "cell_type": "code",
      "metadata": {
        "colab": {
          "base_uri": "https://localhost:8080/"
        },
        "id": "eSYXhsjdkmLG",
        "outputId": "e0b360a5-e11d-4447-d2b2-507a95e58eea"
      },
      "source": [
        "test_loader.dataset"
      ],
      "execution_count": 27,
      "outputs": [
        {
          "output_type": "execute_result",
          "data": {
            "text/plain": [
              "Dataset MNIST\n",
              "    Number of datapoints: 10000\n",
              "    Root location: ./data\n",
              "    Split: Test\n",
              "    StandardTransform\n",
              "Transform: ToTensor()"
            ]
          },
          "metadata": {
            "tags": []
          },
          "execution_count": 27
        }
      ]
    },
    {
      "cell_type": "markdown",
      "metadata": {
        "id": "wFuR6N4bvfIc"
      },
      "source": [
        "## MNIST"
      ]
    },
    {
      "cell_type": "code",
      "metadata": {
        "id": "TbvtouFsvady",
        "colab": {
          "base_uri": "https://localhost:8080/"
        },
        "outputId": "1a1fa92a-0a37-401f-f32d-1d450d57f8f8"
      },
      "source": [
        "# エポック数\n",
        "num_epochs = 40\n",
        "\n",
        "# lossをプロットするためのリスト\n",
        "train_loss_list = []\n",
        "val_loss_list = []\n",
        "\n",
        "for epoch in range(num_epochs):\n",
        "    #epoch毎に初期化\n",
        "    train_loss = 0\n",
        "    val_loss = 0\n",
        "    # trainモードへ切替\n",
        "    net.train()\n",
        "    # ミニバッチで分割して読み込む\n",
        "    for i, (images, labels) in enumerate(train_loader):\n",
        "        # viewで1次元配列に変更\n",
        "        # toでgpuに転送\n",
        "        images, labels = images.view(-1, 28*28).to(device), labels.to(device)\n",
        "        # 勾配をリセット\n",
        "        optimizer.zero_grad()\n",
        "        # 順伝搬の計算\n",
        "        outputs = net(images)\n",
        "        # lossを計算\n",
        "        loss = criterion(outputs, labels)\n",
        "        # lossのミニバッチ分をため込む\n",
        "        train_loss += loss.item()\n",
        "        # 逆伝搬の計算\n",
        "        loss.backward()\n",
        "        # 重みの更新\n",
        "        optimizer.step()\n",
        "    # 平均lossと平均accuracyを計算\n",
        "    mean_train_loss = train_loss / len(train_loader.dataset)\n",
        "\n",
        "    # 評価モードに切り替え\n",
        "    net.eval()\n",
        "    # 評価するとき勾配を計算しないように\n",
        "    with torch.no_grad():\n",
        "        for j, (images, labels) in enumerate(test_loader):\n",
        "            images, labels = images.view(-1, 28*28).to(device), labels.to(device)\n",
        "            outputs = net(images)\n",
        "            loss = criterion(outputs, labels)\n",
        "            val_loss += loss.item()\n",
        "        \n",
        "        mean_val_loss = val_loss / len(test_loader.dataset)\n",
        "\n",
        "    # 訓練データのlossと検証データのlossのログ\n",
        "    print(f'Epoch [{epoch+1}], train_Loss : {mean_train_loss:.4f}, val_Loss : {mean_val_loss:.4f}')\n",
        "    \n",
        "    # append\n",
        "    train_loss_list.append(mean_train_loss)\n",
        "    val_loss_list.append(mean_val_loss)"
      ],
      "execution_count": 28,
      "outputs": [
        {
          "output_type": "stream",
          "text": [
            "Epoch [1], train_Loss : 0.0086, val_Loss : 0.0083\n",
            "Epoch [2], train_Loss : 0.0070, val_Loss : 0.0056\n",
            "Epoch [3], train_Loss : 0.0043, val_Loss : 0.0033\n",
            "Epoch [4], train_Loss : 0.0028, val_Loss : 0.0024\n",
            "Epoch [5], train_Loss : 0.0022, val_Loss : 0.0020\n",
            "Epoch [6], train_Loss : 0.0019, val_Loss : 0.0017\n",
            "Epoch [7], train_Loss : 0.0017, val_Loss : 0.0016\n",
            "Epoch [8], train_Loss : 0.0016, val_Loss : 0.0015\n",
            "Epoch [9], train_Loss : 0.0015, val_Loss : 0.0014\n",
            "Epoch [10], train_Loss : 0.0014, val_Loss : 0.0014\n",
            "Epoch [11], train_Loss : 0.0014, val_Loss : 0.0013\n",
            "Epoch [12], train_Loss : 0.0013, val_Loss : 0.0013\n",
            "Epoch [13], train_Loss : 0.0013, val_Loss : 0.0012\n",
            "Epoch [14], train_Loss : 0.0013, val_Loss : 0.0012\n",
            "Epoch [15], train_Loss : 0.0012, val_Loss : 0.0012\n",
            "Epoch [16], train_Loss : 0.0012, val_Loss : 0.0012\n",
            "Epoch [17], train_Loss : 0.0012, val_Loss : 0.0011\n",
            "Epoch [18], train_Loss : 0.0011, val_Loss : 0.0011\n",
            "Epoch [19], train_Loss : 0.0011, val_Loss : 0.0011\n",
            "Epoch [20], train_Loss : 0.0011, val_Loss : 0.0011\n",
            "Epoch [21], train_Loss : 0.0011, val_Loss : 0.0010\n",
            "Epoch [22], train_Loss : 0.0011, val_Loss : 0.0010\n",
            "Epoch [23], train_Loss : 0.0010, val_Loss : 0.0010\n",
            "Epoch [24], train_Loss : 0.0010, val_Loss : 0.0010\n",
            "Epoch [25], train_Loss : 0.0010, val_Loss : 0.0010\n",
            "Epoch [26], train_Loss : 0.0010, val_Loss : 0.0010\n",
            "Epoch [27], train_Loss : 0.0010, val_Loss : 0.0009\n",
            "Epoch [28], train_Loss : 0.0009, val_Loss : 0.0009\n",
            "Epoch [29], train_Loss : 0.0009, val_Loss : 0.0009\n",
            "Epoch [30], train_Loss : 0.0009, val_Loss : 0.0009\n",
            "Epoch [31], train_Loss : 0.0009, val_Loss : 0.0009\n",
            "Epoch [32], train_Loss : 0.0009, val_Loss : 0.0009\n",
            "Epoch [33], train_Loss : 0.0009, val_Loss : 0.0009\n",
            "Epoch [34], train_Loss : 0.0009, val_Loss : 0.0008\n",
            "Epoch [35], train_Loss : 0.0008, val_Loss : 0.0008\n",
            "Epoch [36], train_Loss : 0.0008, val_Loss : 0.0008\n",
            "Epoch [37], train_Loss : 0.0008, val_Loss : 0.0008\n",
            "Epoch [38], train_Loss : 0.0008, val_Loss : 0.0008\n",
            "Epoch [39], train_Loss : 0.0008, val_Loss : 0.0008\n",
            "Epoch [40], train_Loss : 0.0008, val_Loss : 0.0008\n"
          ],
          "name": "stdout"
        }
      ]
    },
    {
      "cell_type": "code",
      "metadata": {
        "id": "LgAaNXn8w0sO",
        "colab": {
          "base_uri": "https://localhost:8080/",
          "height": 424
        },
        "outputId": "c9de0e04-7ed8-4839-fd53-83c2697f3674"
      },
      "source": [
        "# 誤差をプロットしてみる\n",
        "fig, ax = plt.subplots(figsize=(8, 6))\n",
        "ax.plot(range(num_epochs), train_loss_list, c='b', label='train loss')\n",
        "ax.plot(range(num_epochs), val_loss_list, c='r', label='test loss')\n",
        "ax.set_xlabel('epoch', fontsize='20')\n",
        "ax.set_ylabel('loss', fontsize='20')\n",
        "ax.set_title('training and validation loss', fontsize='20')\n",
        "ax.grid()\n",
        "ax.legend(fontsize='25')\n",
        "plt.show()"
      ],
      "execution_count": 40,
      "outputs": [
        {
          "output_type": "display_data",
          "data": {
            "image/png": "[encoded data removed]",
            "text/plain": [
              "<Figure size 576x432 with 1 Axes>"
            ]
          },
          "metadata": {
            "tags": []
          }
        }
      ]
    }
  ]
}