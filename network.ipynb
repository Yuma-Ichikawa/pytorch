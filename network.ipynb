{
  "nbformat": 4,
  "nbformat_minor": 0,
  "metadata": {
    "colab": {
      "name": "network.ipynb",
      "provenance": [],
      "collapsed_sections": [],
      "authorship_tag": "ABX9TyPL2C0p41FQ54SqU2E3YSom",
      "include_colab_link": true
    },
    "kernelspec": {
      "name": "python3",
      "display_name": "Python 3"
    }
  },
  "cells": [
    {
      "cell_type": "markdown",
      "metadata": {
        "id": "view-in-github",
        "colab_type": "text"
      },
      "source": [
        "<a href=\"https://colab.research.google.com/github/Yuma-Ichikawa/pytorch/blob/master/network.ipynb\" target=\"_parent\"><img src=\"https://colab.research.google.com/assets/colab-badge.svg\" alt=\"Open In Colab\"/></a>"
      ]
    },
    {
      "cell_type": "markdown",
      "metadata": {
        "id": "Q6-xk7VWoLb7"
      },
      "source": [
        "# ネットワークの定義\n",
        "\n",
        "Pytorchのネットワークを定義する方法は大きく分けて二つあります。\n",
        "\n",
        "- nn.Sequential : 自作クラスを作成\n",
        "- 自作ネットワークを作成\n",
        "    - コンストラクタ : ネットワーク層の定義\n",
        "    - forwardメソッド : 順伝搬\n",
        "    "
      ]
    },
    {
      "cell_type": "code",
      "metadata": {
        "id": "Dnt-b4DdHlaO"
      },
      "source": [
        "import torch\n",
        "import torch.nn as nn\n",
        "import torch.nn.functional as F"
      ],
      "execution_count": 1,
      "outputs": []
    },
    {
      "cell_type": "markdown",
      "metadata": {
        "id": "PMTRSHlB__eV"
      },
      "source": [
        "### サンプルデータを生成"
      ]
    },
    {
      "cell_type": "code",
      "metadata": {
        "id": "r0aW97jhI2X-",
        "colab": {
          "base_uri": "https://localhost:8080/"
        },
        "outputId": "3cea1a9a-e4fc-463a-fa0c-43a1c7e2c606"
      },
      "source": [
        "sample = torch.randn(1, 10)\n",
        "sample"
      ],
      "execution_count": 13,
      "outputs": [
        {
          "output_type": "execute_result",
          "data": {
            "text/plain": [
              "tensor([[-0.7793, -0.3066, -0.2111,  0.9219, -0.9138,  0.5532,  0.2976, -0.5031,\n",
              "          0.0075,  0.5750]])"
            ]
          },
          "metadata": {
            "tags": []
          },
          "execution_count": 13
        }
      ]
    },
    {
      "cell_type": "markdown",
      "metadata": {
        "id": "ExBCT1pt_7IO"
      },
      "source": [
        "### Sequentialを使用する方法"
      ]
    },
    {
      "cell_type": "code",
      "metadata": {
        "id": "aiRO33ttIFRP",
        "colab": {
          "base_uri": "https://localhost:8080/"
        },
        "outputId": "0d14aa7d-7c6a-46d2-a7e3-eeaa023be8e9"
      },
      "source": [
        "# Sequentialの書き方\n",
        "model = nn.Sequential(\n",
        "            nn.Linear(10, 32),\n",
        "            nn.ReLU(),\n",
        "            nn.Linear(32, 16),\n",
        "            nn.ReLU(),\n",
        "            nn.Linear(16, 10)\n",
        "            )\n",
        "\n",
        "print(model)"
      ],
      "execution_count": 3,
      "outputs": [
        {
          "output_type": "stream",
          "text": [
            "Sequential(\n",
            "  (0): Linear(in_features=10, out_features=32, bias=True)\n",
            "  (1): ReLU()\n",
            "  (2): Linear(in_features=32, out_features=16, bias=True)\n",
            "  (3): ReLU()\n",
            "  (4): Linear(in_features=16, out_features=10, bias=True)\n",
            ")\n"
          ],
          "name": "stdout"
        }
      ]
    },
    {
      "cell_type": "code",
      "metadata": {
        "id": "pMubUkkeIxey",
        "colab": {
          "base_uri": "https://localhost:8080/"
        },
        "outputId": "4940b277-f9c1-4c11-b93b-ce1b4eaeae0f"
      },
      "source": [
        "y = model(sample)\n",
        "y"
      ],
      "execution_count": 4,
      "outputs": [
        {
          "output_type": "execute_result",
          "data": {
            "text/plain": [
              "tensor([[-0.1519, -0.0645,  0.2597,  0.0633, -0.0683, -0.0930, -0.1970, -0.2041,\n",
              "          0.2891, -0.0963]], grad_fn=<AddmmBackward>)"
            ]
          },
          "metadata": {
            "tags": []
          },
          "execution_count": 4
        }
      ]
    },
    {
      "cell_type": "markdown",
      "metadata": {
        "id": "FJd1gdgK_35i"
      },
      "source": [
        "### ネットワークをモジュール化する方法"
      ]
    },
    {
      "cell_type": "code",
      "metadata": {
        "id": "e_9BPGWK4dKP"
      },
      "source": [
        "# ネットワークのモジュール化\n",
        "class Model(nn.Module):\n",
        "    def __init__(self, input):\n",
        "        super(Model, self).__init__()\n",
        "        \n",
        "        # ネットワークを定義\n",
        "        self.linear1 = nn.Linear(input, 32)\n",
        "        self.linear2 = nn.Linear(32, 16)\n",
        "        self.linear3 = nn.Linear(16, 10)\n",
        "        self.relu = nn.ReLU()\n",
        "\n",
        "    # 順伝搬を定義\n",
        "    def forward(self, x):\n",
        "        x = self.linear1(x)\n",
        "        x = self.relu(x)\n",
        "        x = self.linear2(x)\n",
        "        x = self.relu(x)\n",
        "        x = self.linear3(x)\n",
        "        return x"
      ],
      "execution_count": 5,
      "outputs": []
    },
    {
      "cell_type": "code",
      "metadata": {
        "colab": {
          "base_uri": "https://localhost:8080/"
        },
        "id": "ziirhTrQ5Z8t",
        "outputId": "d8c61fb1-ff8e-4cdb-9f96-60d6fe8f3754"
      },
      "source": [
        "# instance化\n",
        "model = Model(input=10)\n",
        "\n",
        "# 順伝搬\n",
        "y = model(sample)\n",
        "y"
      ],
      "execution_count": 7,
      "outputs": [
        {
          "output_type": "execute_result",
          "data": {
            "text/plain": [
              "tensor([[ 0.0338,  0.1522,  0.2269, -0.2712, -0.1680,  0.1589, -0.2678, -0.2639,\n",
              "          0.2933,  0.0669]], grad_fn=<AddmmBackward>)"
            ]
          },
          "metadata": {
            "tags": []
          },
          "execution_count": 7
        }
      ]
    },
    {
      "cell_type": "markdown",
      "metadata": {
        "id": "bvH6NXZb_t_6"
      },
      "source": [
        "### 自作モジュールを複数使用し新たな自作モジュールを作成する方法"
      ]
    },
    {
      "cell_type": "code",
      "metadata": {
        "id": "6NJ2fDsQrfk8"
      },
      "source": [
        "# Custum Layer\n",
        "class CustomLayer(nn.Module):\n",
        "    def __init__(self, input, output):\n",
        "        super(CustomLayer, self).__init__()\n",
        "        self.linear=nn.Linear(input, output)\n",
        "        self.relu=nn.ReLU()\n",
        "    def forward(self, x):\n",
        "        x=self.linear(x)\n",
        "        x=self.relu(x)\n",
        "        return x"
      ],
      "execution_count": 8,
      "outputs": []
    },
    {
      "cell_type": "code",
      "metadata": {
        "id": "o1apsi2XJPhX"
      },
      "source": [
        "# ネットワークをモジュール化\n",
        "class Model(nn.Module):\n",
        "    def __init__(self, input):\n",
        "        super(Model, self).__init__()\n",
        "        self.custom1 = CustomLayer(input, 32)\n",
        "        self.custom2 = CustomLayer(32, 16)\n",
        "        self.linear3 = nn.Linear(16, 10)\n",
        "\n",
        "    def forward(self, x):\n",
        "        x = self.custom1(x)\n",
        "        x = self.custom2(x)\n",
        "        x = self.linear3(x)\n",
        "        return x"
      ],
      "execution_count": 11,
      "outputs": []
    },
    {
      "cell_type": "code",
      "metadata": {
        "id": "nYJW92U1LvD5",
        "colab": {
          "base_uri": "https://localhost:8080/"
        },
        "outputId": "bf99afb0-898f-4fa3-f824-170bb5aa94d3"
      },
      "source": [
        "model = Model(input=10)\n",
        "y = model(sample)\n",
        "y"
      ],
      "execution_count": 12,
      "outputs": [
        {
          "output_type": "execute_result",
          "data": {
            "text/plain": [
              "tensor([[ 0.1433,  0.0858, -0.0468,  0.0335,  0.0948,  0.1795,  0.0362, -0.0126,\n",
              "          0.0983, -0.1097]], grad_fn=<AddmmBackward>)"
            ]
          },
          "metadata": {
            "tags": []
          },
          "execution_count": 12
        }
      ]
    },
    {
      "cell_type": "markdown",
      "metadata": {
        "id": "oUbHsM4H_kUN"
      },
      "source": [
        "# ネットワークの可視化方法\n",
        "\n",
        "torchvizを使用する方法を解説していきます。"
      ]
    },
    {
      "cell_type": "code",
      "metadata": {
        "colab": {
          "base_uri": "https://localhost:8080/",
          "height": 1000
        },
        "id": "hzfVZkXdrL0t",
        "outputId": "0bedc8ec-b7b0-4174-9689-20afd9401be0"
      },
      "source": [
        "make_dot(y, params=dict(model.named_parameters()))"
      ],
      "execution_count": 29,
      "outputs": [
        {
          "output_type": "execute_result",
          "data": {
            "text/plain": [
              "<graphviz.dot.Digraph at 0x7fba9ed7c908>"
            ],
            "image/svg+xml": "<?xml version=\"1.0\" encoding=\"UTF-8\" standalone=\"no\"?>\n<!DOCTYPE svg PUBLIC \"-//W3C//DTD SVG 1.1//EN\"\n \"http://www.w3.org/Graphics/SVG/1.1/DTD/svg11.dtd\">\n<!-- Generated by graphviz version 2.40.1 (20161225.0304)\n -->\n<!-- Title: %3 Pages: 1 -->\n<svg width=\"314pt\" height=\"864pt\"\n viewBox=\"0.00 0.00 313.87 864.00\" xmlns=\"http://www.w3.org/2000/svg\" xmlns:xlink=\"http://www.w3.org/1999/xlink\">\n<g id=\"graph0\" class=\"graph\" transform=\"scale(.9886 .9886) rotate(0) translate(4 870)\">\n<title>%3</title>\n<polygon fill=\"#ffffff\" stroke=\"transparent\" points=\"-4,4 -4,-870 313.5,-870 313.5,4 -4,4\"/>\n<!-- 140439505587896 -->\n<g id=\"node1\" class=\"node\">\n<title>140439505587896</title>\n<polygon fill=\"#caff70\" stroke=\"#000000\" points=\"198.5,-21 107.5,-21 107.5,0 198.5,0 198.5,-21\"/>\n<text text-anchor=\"middle\" x=\"153\" y=\"-7.4\" font-family=\"Times,serif\" font-size=\"12.00\" fill=\"#000000\">MulBackward0</text>\n</g>\n<!-- 140439505587840 -->\n<g id=\"node2\" class=\"node\">\n<title>140439505587840</title>\n<polygon fill=\"#d3d3d3\" stroke=\"#000000\" points=\"200,-78 106,-78 106,-57 200,-57 200,-78\"/>\n<text text-anchor=\"middle\" x=\"153\" y=\"-64.4\" font-family=\"Times,serif\" font-size=\"12.00\" fill=\"#000000\">ReluBackward0</text>\n</g>\n<!-- 140439505587840&#45;&gt;140439505587896 -->\n<g id=\"edge1\" class=\"edge\">\n<title>140439505587840&#45;&gt;140439505587896</title>\n<path fill=\"none\" stroke=\"#000000\" d=\"M153,-56.7787C153,-49.6134 153,-39.9517 153,-31.3097\"/>\n<polygon fill=\"#000000\" stroke=\"#000000\" points=\"156.5001,-31.1732 153,-21.1732 149.5001,-31.1732 156.5001,-31.1732\"/>\n</g>\n<!-- 140439505586384 -->\n<g id=\"node3\" class=\"node\">\n<title>140439505586384</title>\n<polygon fill=\"#d3d3d3\" stroke=\"#000000\" points=\"205,-135 101,-135 101,-114 205,-114 205,-135\"/>\n<text text-anchor=\"middle\" x=\"153\" y=\"-121.4\" font-family=\"Times,serif\" font-size=\"12.00\" fill=\"#000000\">AddmmBackward</text>\n</g>\n<!-- 140439505586384&#45;&gt;140439505587840 -->\n<g id=\"edge2\" class=\"edge\">\n<title>140439505586384&#45;&gt;140439505587840</title>\n<path fill=\"none\" stroke=\"#000000\" d=\"M153,-113.7787C153,-106.6134 153,-96.9517 153,-88.3097\"/>\n<polygon fill=\"#000000\" stroke=\"#000000\" points=\"156.5001,-88.1732 153,-78.1732 149.5001,-88.1732 156.5001,-88.1732\"/>\n</g>\n<!-- 140439505587784 -->\n<g id=\"node4\" class=\"node\">\n<title>140439505587784</title>\n<polygon fill=\"#add8e6\" stroke=\"#000000\" points=\"89,-205 7,-205 7,-171 89,-171 89,-205\"/>\n<text text-anchor=\"middle\" x=\"48\" y=\"-191.4\" font-family=\"Times,serif\" font-size=\"12.00\" fill=\"#000000\">ln4.linear.bias</text>\n<text text-anchor=\"middle\" x=\"48\" y=\"-178.4\" font-family=\"Times,serif\" font-size=\"12.00\" fill=\"#000000\"> (10)</text>\n</g>\n<!-- 140439505587784&#45;&gt;140439505586384 -->\n<g id=\"edge3\" class=\"edge\">\n<title>140439505587784&#45;&gt;140439505586384</title>\n<path fill=\"none\" stroke=\"#000000\" d=\"M76.1381,-170.9832C91.7329,-161.552 111.0126,-149.8924 126.3614,-140.61\"/>\n<polygon fill=\"#000000\" stroke=\"#000000\" points=\"128.5964,-143.3487 135.3421,-135.1788 124.974,-137.3588 128.5964,-143.3487\"/>\n</g>\n<!-- 140439506381176 -->\n<g id=\"node5\" class=\"node\">\n<title>140439506381176</title>\n<polygon fill=\"#d3d3d3\" stroke=\"#000000\" points=\"198.5,-198.5 107.5,-198.5 107.5,-177.5 198.5,-177.5 198.5,-198.5\"/>\n<text text-anchor=\"middle\" x=\"153\" y=\"-184.9\" font-family=\"Times,serif\" font-size=\"12.00\" fill=\"#000000\">MulBackward0</text>\n</g>\n<!-- 140439506381176&#45;&gt;140439505586384 -->\n<g id=\"edge4\" class=\"edge\">\n<title>140439506381176&#45;&gt;140439505586384</title>\n<path fill=\"none\" stroke=\"#000000\" d=\"M153,-177.2281C153,-168.5091 153,-155.9699 153,-145.3068\"/>\n<polygon fill=\"#000000\" stroke=\"#000000\" points=\"156.5001,-145.1128 153,-135.1128 149.5001,-145.1129 156.5001,-145.1128\"/>\n</g>\n<!-- 140439506381624 -->\n<g id=\"node6\" class=\"node\">\n<title>140439506381624</title>\n<polygon fill=\"#d3d3d3\" stroke=\"#000000\" points=\"196,-268.5 102,-268.5 102,-247.5 196,-247.5 196,-268.5\"/>\n<text text-anchor=\"middle\" x=\"149\" y=\"-254.9\" font-family=\"Times,serif\" font-size=\"12.00\" fill=\"#000000\">ReluBackward0</text>\n</g>\n<!-- 140439506381624&#45;&gt;140439506381176 -->\n<g id=\"edge5\" class=\"edge\">\n<title>140439506381624&#45;&gt;140439506381176</title>\n<path fill=\"none\" stroke=\"#000000\" d=\"M149.6075,-247.3685C150.189,-237.1925 151.0822,-221.5606 151.8062,-208.8912\"/>\n<polygon fill=\"#000000\" stroke=\"#000000\" points=\"155.3105,-208.915 152.3868,-198.7315 148.3219,-208.5156 155.3105,-208.915\"/>\n</g>\n<!-- 140439506379552 -->\n<g id=\"node7\" class=\"node\">\n<title>140439506379552</title>\n<polygon fill=\"#d3d3d3\" stroke=\"#000000\" points=\"201,-332 97,-332 97,-311 201,-311 201,-332\"/>\n<text text-anchor=\"middle\" x=\"149\" y=\"-318.4\" font-family=\"Times,serif\" font-size=\"12.00\" fill=\"#000000\">AddmmBackward</text>\n</g>\n<!-- 140439506379552&#45;&gt;140439506381624 -->\n<g id=\"edge6\" class=\"edge\">\n<title>140439506379552&#45;&gt;140439506381624</title>\n<path fill=\"none\" stroke=\"#000000\" d=\"M149,-310.7281C149,-302.0091 149,-289.4699 149,-278.8068\"/>\n<polygon fill=\"#000000\" stroke=\"#000000\" points=\"152.5001,-278.6128 149,-268.6128 145.5001,-278.6129 152.5001,-278.6128\"/>\n</g>\n<!-- 140439506379160 -->\n<g id=\"node8\" class=\"node\">\n<title>140439506379160</title>\n<polygon fill=\"#add8e6\" stroke=\"#000000\" points=\"85,-402 3,-402 3,-368 85,-368 85,-402\"/>\n<text text-anchor=\"middle\" x=\"44\" y=\"-388.4\" font-family=\"Times,serif\" font-size=\"12.00\" fill=\"#000000\">ln3.linear.bias</text>\n<text text-anchor=\"middle\" x=\"44\" y=\"-375.4\" font-family=\"Times,serif\" font-size=\"12.00\" fill=\"#000000\"> (200)</text>\n</g>\n<!-- 140439506379160&#45;&gt;140439506379552 -->\n<g id=\"edge7\" class=\"edge\">\n<title>140439506379160&#45;&gt;140439506379552</title>\n<path fill=\"none\" stroke=\"#000000\" d=\"M72.1381,-367.9832C87.7329,-358.552 107.0126,-346.8924 122.3614,-337.61\"/>\n<polygon fill=\"#000000\" stroke=\"#000000\" points=\"124.5964,-340.3487 131.3421,-332.1788 120.974,-334.3588 124.5964,-340.3487\"/>\n</g>\n<!-- 140439506381736 -->\n<g id=\"node9\" class=\"node\">\n<title>140439506381736</title>\n<polygon fill=\"#d3d3d3\" stroke=\"#000000\" points=\"194.5,-395.5 103.5,-395.5 103.5,-374.5 194.5,-374.5 194.5,-395.5\"/>\n<text text-anchor=\"middle\" x=\"149\" y=\"-381.9\" font-family=\"Times,serif\" font-size=\"12.00\" fill=\"#000000\">MulBackward0</text>\n</g>\n<!-- 140439506381736&#45;&gt;140439506379552 -->\n<g id=\"edge8\" class=\"edge\">\n<title>140439506381736&#45;&gt;140439506379552</title>\n<path fill=\"none\" stroke=\"#000000\" d=\"M149,-374.2281C149,-365.5091 149,-352.9699 149,-342.3068\"/>\n<polygon fill=\"#000000\" stroke=\"#000000\" points=\"152.5001,-342.1128 149,-332.1128 145.5001,-342.1129 152.5001,-342.1128\"/>\n</g>\n<!-- 140439506358056 -->\n<g id=\"node10\" class=\"node\">\n<title>140439506358056</title>\n<polygon fill=\"#d3d3d3\" stroke=\"#000000\" points=\"193,-465.5 99,-465.5 99,-444.5 193,-444.5 193,-465.5\"/>\n<text text-anchor=\"middle\" x=\"146\" y=\"-451.9\" font-family=\"Times,serif\" font-size=\"12.00\" fill=\"#000000\">ReluBackward0</text>\n</g>\n<!-- 140439506358056&#45;&gt;140439506381736 -->\n<g id=\"edge9\" class=\"edge\">\n<title>140439506358056&#45;&gt;140439506381736</title>\n<path fill=\"none\" stroke=\"#000000\" d=\"M146.4556,-444.3685C146.8917,-434.1925 147.5617,-418.5606 148.1047,-405.8912\"/>\n<polygon fill=\"#000000\" stroke=\"#000000\" points=\"151.6086,-405.8723 148.5401,-395.7315 144.615,-405.5725 151.6086,-405.8723\"/>\n</g>\n<!-- 140439506356936 -->\n<g id=\"node11\" class=\"node\">\n<title>140439506356936</title>\n<polygon fill=\"#d3d3d3\" stroke=\"#000000\" points=\"198,-529 94,-529 94,-508 198,-508 198,-529\"/>\n<text text-anchor=\"middle\" x=\"146\" y=\"-515.4\" font-family=\"Times,serif\" font-size=\"12.00\" fill=\"#000000\">AddmmBackward</text>\n</g>\n<!-- 140439506356936&#45;&gt;140439506358056 -->\n<g id=\"edge10\" class=\"edge\">\n<title>140439506356936&#45;&gt;140439506358056</title>\n<path fill=\"none\" stroke=\"#000000\" d=\"M146,-507.7281C146,-499.0091 146,-486.4699 146,-475.8068\"/>\n<polygon fill=\"#000000\" stroke=\"#000000\" points=\"149.5001,-475.6128 146,-465.6128 142.5001,-475.6129 149.5001,-475.6128\"/>\n</g>\n<!-- 140439506355928 -->\n<g id=\"node12\" class=\"node\">\n<title>140439506355928</title>\n<polygon fill=\"#add8e6\" stroke=\"#000000\" points=\"82,-599 0,-599 0,-565 82,-565 82,-599\"/>\n<text text-anchor=\"middle\" x=\"41\" y=\"-585.4\" font-family=\"Times,serif\" font-size=\"12.00\" fill=\"#000000\">ln2.linear.bias</text>\n<text text-anchor=\"middle\" x=\"41\" y=\"-572.4\" font-family=\"Times,serif\" font-size=\"12.00\" fill=\"#000000\"> (200)</text>\n</g>\n<!-- 140439506355928&#45;&gt;140439506356936 -->\n<g id=\"edge11\" class=\"edge\">\n<title>140439506355928&#45;&gt;140439506356936</title>\n<path fill=\"none\" stroke=\"#000000\" d=\"M69.1381,-564.9832C84.7329,-555.552 104.0126,-543.8924 119.3614,-534.61\"/>\n<polygon fill=\"#000000\" stroke=\"#000000\" points=\"121.5964,-537.3487 128.3421,-529.1788 117.974,-531.3588 121.5964,-537.3487\"/>\n</g>\n<!-- 140439506354360 -->\n<g id=\"node13\" class=\"node\">\n<title>140439506354360</title>\n<polygon fill=\"#d3d3d3\" stroke=\"#000000\" points=\"191.5,-592.5 100.5,-592.5 100.5,-571.5 191.5,-571.5 191.5,-592.5\"/>\n<text text-anchor=\"middle\" x=\"146\" y=\"-578.9\" font-family=\"Times,serif\" font-size=\"12.00\" fill=\"#000000\">MulBackward0</text>\n</g>\n<!-- 140439506354360&#45;&gt;140439506356936 -->\n<g id=\"edge12\" class=\"edge\">\n<title>140439506354360&#45;&gt;140439506356936</title>\n<path fill=\"none\" stroke=\"#000000\" d=\"M146,-571.2281C146,-562.5091 146,-549.9699 146,-539.3068\"/>\n<polygon fill=\"#000000\" stroke=\"#000000\" points=\"149.5001,-539.1128 146,-529.1128 142.5001,-539.1129 149.5001,-539.1128\"/>\n</g>\n<!-- 140439506356712 -->\n<g id=\"node14\" class=\"node\">\n<title>140439506356712</title>\n<polygon fill=\"#d3d3d3\" stroke=\"#000000\" points=\"189,-662.5 95,-662.5 95,-641.5 189,-641.5 189,-662.5\"/>\n<text text-anchor=\"middle\" x=\"142\" y=\"-648.9\" font-family=\"Times,serif\" font-size=\"12.00\" fill=\"#000000\">ReluBackward0</text>\n</g>\n<!-- 140439506356712&#45;&gt;140439506354360 -->\n<g id=\"edge13\" class=\"edge\">\n<title>140439506356712&#45;&gt;140439506354360</title>\n<path fill=\"none\" stroke=\"#000000\" d=\"M142.6075,-641.3685C143.189,-631.1925 144.0822,-615.5606 144.8062,-602.8912\"/>\n<polygon fill=\"#000000\" stroke=\"#000000\" points=\"148.3105,-602.915 145.3868,-592.7315 141.3219,-602.5156 148.3105,-602.915\"/>\n</g>\n<!-- 140439506356096 -->\n<g id=\"node15\" class=\"node\">\n<title>140439506356096</title>\n<polygon fill=\"#d3d3d3\" stroke=\"#000000\" points=\"194,-726 90,-726 90,-705 194,-705 194,-726\"/>\n<text text-anchor=\"middle\" x=\"142\" y=\"-712.4\" font-family=\"Times,serif\" font-size=\"12.00\" fill=\"#000000\">AddmmBackward</text>\n</g>\n<!-- 140439506356096&#45;&gt;140439506356712 -->\n<g id=\"edge14\" class=\"edge\">\n<title>140439506356096&#45;&gt;140439506356712</title>\n<path fill=\"none\" stroke=\"#000000\" d=\"M142,-704.7281C142,-696.0091 142,-683.4699 142,-672.8068\"/>\n<polygon fill=\"#000000\" stroke=\"#000000\" points=\"145.5001,-672.6128 142,-662.6128 138.5001,-672.6129 145.5001,-672.6128\"/>\n</g>\n<!-- 140439506356152 -->\n<g id=\"node16\" class=\"node\">\n<title>140439506356152</title>\n<polygon fill=\"#add8e6\" stroke=\"#000000\" points=\"135,-796 53,-796 53,-762 135,-762 135,-796\"/>\n<text text-anchor=\"middle\" x=\"94\" y=\"-782.4\" font-family=\"Times,serif\" font-size=\"12.00\" fill=\"#000000\">ln1.linear.bias</text>\n<text text-anchor=\"middle\" x=\"94\" y=\"-769.4\" font-family=\"Times,serif\" font-size=\"12.00\" fill=\"#000000\"> (200)</text>\n</g>\n<!-- 140439506356152&#45;&gt;140439506356096 -->\n<g id=\"edge15\" class=\"edge\">\n<title>140439506356152&#45;&gt;140439506356096</title>\n<path fill=\"none\" stroke=\"#000000\" d=\"M106.8631,-761.9832C113.278,-753.4969 121.0567,-743.2062 127.6629,-734.4668\"/>\n<polygon fill=\"#000000\" stroke=\"#000000\" points=\"130.5462,-736.4566 133.7843,-726.3687 124.9621,-732.2355 130.5462,-736.4566\"/>\n</g>\n<!-- 140439506357776 -->\n<g id=\"node17\" class=\"node\">\n<title>140439506357776</title>\n<polygon fill=\"#d3d3d3\" stroke=\"#000000\" points=\"226.5,-789.5 153.5,-789.5 153.5,-768.5 226.5,-768.5 226.5,-789.5\"/>\n<text text-anchor=\"middle\" x=\"190\" y=\"-775.9\" font-family=\"Times,serif\" font-size=\"12.00\" fill=\"#000000\">TBackward</text>\n</g>\n<!-- 140439506357776&#45;&gt;140439506356096 -->\n<g id=\"edge16\" class=\"edge\">\n<title>140439506357776&#45;&gt;140439506356096</title>\n<path fill=\"none\" stroke=\"#000000\" d=\"M181.8575,-768.2281C174.8505,-758.9585 164.5794,-745.3707 156.2189,-734.3104\"/>\n<polygon fill=\"#000000\" stroke=\"#000000\" points=\"158.8445,-731.9796 150.0223,-726.1128 153.2604,-736.2007 158.8445,-731.9796\"/>\n</g>\n<!-- 140439506356432 -->\n<g id=\"node18\" class=\"node\">\n<title>140439506356432</title>\n<polygon fill=\"#add8e6\" stroke=\"#000000\" points=\"237.5,-866 142.5,-866 142.5,-832 237.5,-832 237.5,-866\"/>\n<text text-anchor=\"middle\" x=\"190\" y=\"-852.4\" font-family=\"Times,serif\" font-size=\"12.00\" fill=\"#000000\">ln1.linear.weight</text>\n<text text-anchor=\"middle\" x=\"190\" y=\"-839.4\" font-family=\"Times,serif\" font-size=\"12.00\" fill=\"#000000\"> (200, 10)</text>\n</g>\n<!-- 140439506356432&#45;&gt;140439506357776 -->\n<g id=\"edge17\" class=\"edge\">\n<title>140439506356432&#45;&gt;140439506357776</title>\n<path fill=\"none\" stroke=\"#000000\" d=\"M190,-831.6966C190,-822.0634 190,-810.003 190,-799.8518\"/>\n<polygon fill=\"#000000\" stroke=\"#000000\" points=\"193.5001,-799.7912 190,-789.7913 186.5001,-799.7913 193.5001,-799.7912\"/>\n</g>\n<!-- 140439506357104 -->\n<g id=\"node19\" class=\"node\">\n<title>140439506357104</title>\n<polygon fill=\"#d3d3d3\" stroke=\"#000000\" points=\"288.5,-592.5 215.5,-592.5 215.5,-571.5 288.5,-571.5 288.5,-592.5\"/>\n<text text-anchor=\"middle\" x=\"252\" y=\"-578.9\" font-family=\"Times,serif\" font-size=\"12.00\" fill=\"#000000\">TBackward</text>\n</g>\n<!-- 140439506357104&#45;&gt;140439506356936 -->\n<g id=\"edge18\" class=\"edge\">\n<title>140439506357104&#45;&gt;140439506356936</title>\n<path fill=\"none\" stroke=\"#000000\" d=\"M234.0185,-571.2281C217.0894,-561.0866 191.5323,-545.7764 172.3116,-534.2622\"/>\n<polygon fill=\"#000000\" stroke=\"#000000\" points=\"174.0931,-531.2494 163.7159,-529.1128 170.4957,-537.2544 174.0931,-531.2494\"/>\n</g>\n<!-- 140439506355704 -->\n<g id=\"node20\" class=\"node\">\n<title>140439506355704</title>\n<polygon fill=\"#add8e6\" stroke=\"#000000\" points=\"302.5,-669 207.5,-669 207.5,-635 302.5,-635 302.5,-669\"/>\n<text text-anchor=\"middle\" x=\"255\" y=\"-655.4\" font-family=\"Times,serif\" font-size=\"12.00\" fill=\"#000000\">ln2.linear.weight</text>\n<text text-anchor=\"middle\" x=\"255\" y=\"-642.4\" font-family=\"Times,serif\" font-size=\"12.00\" fill=\"#000000\"> (200, 200)</text>\n</g>\n<!-- 140439506355704&#45;&gt;140439506357104 -->\n<g id=\"edge19\" class=\"edge\">\n<title>140439506355704&#45;&gt;140439506357104</title>\n<path fill=\"none\" stroke=\"#000000\" d=\"M254.2584,-634.6966C253.8456,-625.0634 253.3287,-613.003 252.8937,-602.8518\"/>\n<polygon fill=\"#000000\" stroke=\"#000000\" points=\"256.3875,-602.6322 252.4625,-592.7913 249.394,-602.932 256.3875,-602.6322\"/>\n</g>\n<!-- 140439506382128 -->\n<g id=\"node21\" class=\"node\">\n<title>140439506382128</title>\n<polygon fill=\"#d3d3d3\" stroke=\"#000000\" points=\"291.5,-395.5 218.5,-395.5 218.5,-374.5 291.5,-374.5 291.5,-395.5\"/>\n<text text-anchor=\"middle\" x=\"255\" y=\"-381.9\" font-family=\"Times,serif\" font-size=\"12.00\" fill=\"#000000\">TBackward</text>\n</g>\n<!-- 140439506382128&#45;&gt;140439506379552 -->\n<g id=\"edge20\" class=\"edge\">\n<title>140439506382128&#45;&gt;140439506379552</title>\n<path fill=\"none\" stroke=\"#000000\" d=\"M237.0185,-374.2281C220.0894,-364.0866 194.5323,-348.7764 175.3116,-337.2622\"/>\n<polygon fill=\"#000000\" stroke=\"#000000\" points=\"177.0931,-334.2494 166.7159,-332.1128 173.4957,-340.2544 177.0931,-334.2494\"/>\n</g>\n<!-- 140439506355648 -->\n<g id=\"node22\" class=\"node\">\n<title>140439506355648</title>\n<polygon fill=\"#add8e6\" stroke=\"#000000\" points=\"306.5,-472 211.5,-472 211.5,-438 306.5,-438 306.5,-472\"/>\n<text text-anchor=\"middle\" x=\"259\" y=\"-458.4\" font-family=\"Times,serif\" font-size=\"12.00\" fill=\"#000000\">ln3.linear.weight</text>\n<text text-anchor=\"middle\" x=\"259\" y=\"-445.4\" font-family=\"Times,serif\" font-size=\"12.00\" fill=\"#000000\"> (200, 200)</text>\n</g>\n<!-- 140439506355648&#45;&gt;140439506382128 -->\n<g id=\"edge21\" class=\"edge\">\n<title>140439506355648&#45;&gt;140439506382128</title>\n<path fill=\"none\" stroke=\"#000000\" d=\"M258.0112,-437.6966C257.4608,-428.0634 256.7716,-416.003 256.1915,-405.8518\"/>\n<polygon fill=\"#000000\" stroke=\"#000000\" points=\"259.6815,-405.5753 255.6166,-395.7913 252.6929,-405.9747 259.6815,-405.5753\"/>\n</g>\n<!-- 140439506380560 -->\n<g id=\"node23\" class=\"node\">\n<title>140439506380560</title>\n<polygon fill=\"#d3d3d3\" stroke=\"#000000\" points=\"295.5,-198.5 222.5,-198.5 222.5,-177.5 295.5,-177.5 295.5,-198.5\"/>\n<text text-anchor=\"middle\" x=\"259\" y=\"-184.9\" font-family=\"Times,serif\" font-size=\"12.00\" fill=\"#000000\">TBackward</text>\n</g>\n<!-- 140439506380560&#45;&gt;140439505586384 -->\n<g id=\"edge22\" class=\"edge\">\n<title>140439506380560&#45;&gt;140439505586384</title>\n<path fill=\"none\" stroke=\"#000000\" d=\"M241.0185,-177.2281C224.0894,-167.0866 198.5323,-151.7764 179.3116,-140.2622\"/>\n<polygon fill=\"#000000\" stroke=\"#000000\" points=\"181.0931,-137.2494 170.7159,-135.1128 177.4957,-143.2544 181.0931,-137.2494\"/>\n</g>\n<!-- 140439506381960 -->\n<g id=\"node24\" class=\"node\">\n<title>140439506381960</title>\n<polygon fill=\"#add8e6\" stroke=\"#000000\" points=\"309.5,-275 214.5,-275 214.5,-241 309.5,-241 309.5,-275\"/>\n<text text-anchor=\"middle\" x=\"262\" y=\"-261.4\" font-family=\"Times,serif\" font-size=\"12.00\" fill=\"#000000\">ln4.linear.weight</text>\n<text text-anchor=\"middle\" x=\"262\" y=\"-248.4\" font-family=\"Times,serif\" font-size=\"12.00\" fill=\"#000000\"> (10, 200)</text>\n</g>\n<!-- 140439506381960&#45;&gt;140439506380560 -->\n<g id=\"edge23\" class=\"edge\">\n<title>140439506381960&#45;&gt;140439506380560</title>\n<path fill=\"none\" stroke=\"#000000\" d=\"M261.2584,-240.6966C260.8456,-231.0634 260.3287,-219.003 259.8937,-208.8518\"/>\n<polygon fill=\"#000000\" stroke=\"#000000\" points=\"263.3875,-208.6322 259.4625,-198.7913 256.394,-208.932 263.3875,-208.6322\"/>\n</g>\n</g>\n</svg>\n"
          },
          "metadata": {
            "tags": []
          },
          "execution_count": 29
        }
      ]
    },
    {
      "cell_type": "code",
      "metadata": {
        "id": "n-15XUfGL1_B",
        "colab": {
          "base_uri": "https://localhost:8080/"
        },
        "outputId": "a40e5063-f18a-43c3-a512-af151d382b64"
      },
      "source": [
        "!pip3 install torchviz"
      ],
      "execution_count": 7,
      "outputs": [
        {
          "output_type": "stream",
          "text": [
            "Collecting torchviz\n",
            "\u001b[?25l  Downloading https://files.pythonhosted.org/packages/8f/8e/a9630c7786b846d08b47714dd363a051f5e37b4ea0e534460d8cdfc1644b/torchviz-0.0.1.tar.gz (41kB)\n",
            "\r\u001b[K     |████████                        | 10kB 14.5MB/s eta 0:00:01\r\u001b[K     |████████████████                | 20kB 14.7MB/s eta 0:00:01\r\u001b[K     |███████████████████████▉        | 30kB 9.2MB/s eta 0:00:01\r\u001b[K     |███████████████████████████████▉| 40kB 7.7MB/s eta 0:00:01\r\u001b[K     |████████████████████████████████| 51kB 3.8MB/s \n",
            "\u001b[?25hRequirement already satisfied: torch in /usr/local/lib/python3.6/dist-packages (from torchviz) (1.7.0+cu101)\n",
            "Requirement already satisfied: graphviz in /usr/local/lib/python3.6/dist-packages (from torchviz) (0.10.1)\n",
            "Requirement already satisfied: typing-extensions in /usr/local/lib/python3.6/dist-packages (from torch->torchviz) (3.7.4.3)\n",
            "Requirement already satisfied: future in /usr/local/lib/python3.6/dist-packages (from torch->torchviz) (0.16.0)\n",
            "Requirement already satisfied: numpy in /usr/local/lib/python3.6/dist-packages (from torch->torchviz) (1.19.5)\n",
            "Requirement already satisfied: dataclasses in /usr/local/lib/python3.6/dist-packages (from torch->torchviz) (0.8)\n",
            "Building wheels for collected packages: torchviz\n",
            "  Building wheel for torchviz (setup.py) ... \u001b[?25l\u001b[?25hdone\n",
            "  Created wheel for torchviz: filename=torchviz-0.0.1-cp36-none-any.whl size=3522 sha256=ee56f7d38cc3b82734ff23ecb2e5e1ba6dff05550bda6c648d179c1d454aba89\n",
            "  Stored in directory: /root/.cache/pip/wheels/2a/c2/c5/b8b4d0f7992c735f6db5bfa3c5f354cf36502037ca2b585667\n",
            "Successfully built torchviz\n",
            "Installing collected packages: torchviz\n",
            "Successfully installed torchviz-0.0.1\n"
          ],
          "name": "stdout"
        }
      ]
    },
    {
      "cell_type": "code",
      "metadata": {
        "id": "BojtD4oSqxah"
      },
      "source": [
        "# PyTorchViz\n",
        "from torchviz import make_dot"
      ],
      "execution_count": 8,
      "outputs": []
    },
    {
      "cell_type": "code",
      "metadata": {
        "colab": {
          "base_uri": "https://localhost:8080/"
        },
        "id": "c3-m7Oxxq0vi",
        "outputId": "75720b18-6a0e-452d-f0fb-e2500afb4ad7"
      },
      "source": [
        "# NN構築用のクラス\n",
        "class NnModel(nn.Module):\n",
        "    def __init__(self):\n",
        "        super().__init__()\n",
        "        self.fc1 = nn.Linear(10,5)\n",
        "        self.fc2 = nn.Linear(5,2)\n",
        "\n",
        "    def forward(self, x):\n",
        "        x = F.relu(self.fc1(x))\n",
        "        x = F.softmax(self.fc2(x))\n",
        "        return x\n",
        "\n",
        "# モデル定義\n",
        "model = NnModel()\n",
        "\n",
        "# 擬似乱数のシード固定\n",
        "torch.manual_seed(0)\n",
        "datas = torch.randn(1,10)\n",
        "\n",
        "# 予測値\n",
        "y = model(datas)"
      ],
      "execution_count": 9,
      "outputs": [
        {
          "output_type": "stream",
          "text": [
            "/usr/local/lib/python3.6/dist-packages/ipykernel_launcher.py:10: UserWarning: Implicit dimension choice for softmax has been deprecated. Change the call to include dim=X as an argument.\n",
            "  # Remove the CWD from sys.path while we load stuff.\n"
          ],
          "name": "stderr"
        }
      ]
    },
    {
      "cell_type": "code",
      "metadata": {
        "colab": {
          "base_uri": "https://localhost:8080/",
          "height": 509
        },
        "id": "ExVsCtEpq5KL",
        "outputId": "573ea5ac-c87b-4d00-fd13-62b01275af75"
      },
      "source": [
        "# ビジュアライズ化\n",
        "# 予測値が引数になる！\n",
        "make_dot(y, params=dict(model.named_parameters()))"
      ],
      "execution_count": 10,
      "outputs": [
        {
          "output_type": "execute_result",
          "data": {
            "text/plain": [
              "<graphviz.dot.Digraph at 0x7fbaa710af28>"
            ],
            "image/svg+xml": "<?xml version=\"1.0\" encoding=\"UTF-8\" standalone=\"no\"?>\n<!DOCTYPE svg PUBLIC \"-//W3C//DTD SVG 1.1//EN\"\n \"http://www.w3.org/Graphics/SVG/1.1/DTD/svg11.dtd\">\n<!-- Generated by graphviz version 2.40.1 (20161225.0304)\n -->\n<!-- Title: %3 Pages: 1 -->\n<svg width=\"267pt\" height=\"366pt\"\n viewBox=\"0.00 0.00 266.50 366.00\" xmlns=\"http://www.w3.org/2000/svg\" xmlns:xlink=\"http://www.w3.org/1999/xlink\">\n<g id=\"graph0\" class=\"graph\" transform=\"scale(1 1) rotate(0) translate(4 362)\">\n<title>%3</title>\n<polygon fill=\"#ffffff\" stroke=\"transparent\" points=\"-4,4 -4,-362 262.5,-362 262.5,4 -4,4\"/>\n<!-- 140439643532592 -->\n<g id=\"node1\" class=\"node\">\n<title>140439643532592</title>\n<polygon fill=\"#caff70\" stroke=\"#000000\" points=\"171.5,-21 66.5,-21 66.5,0 171.5,0 171.5,-21\"/>\n<text text-anchor=\"middle\" x=\"119\" y=\"-7.4\" font-family=\"Times,serif\" font-size=\"12.00\" fill=\"#000000\">SoftmaxBackward</text>\n</g>\n<!-- 140439643532312 -->\n<g id=\"node2\" class=\"node\">\n<title>140439643532312</title>\n<polygon fill=\"#d3d3d3\" stroke=\"#000000\" points=\"171,-78 67,-78 67,-57 171,-57 171,-78\"/>\n<text text-anchor=\"middle\" x=\"119\" y=\"-64.4\" font-family=\"Times,serif\" font-size=\"12.00\" fill=\"#000000\">AddmmBackward</text>\n</g>\n<!-- 140439643532312&#45;&gt;140439643532592 -->\n<g id=\"edge1\" class=\"edge\">\n<title>140439643532312&#45;&gt;140439643532592</title>\n<path fill=\"none\" stroke=\"#000000\" d=\"M119,-56.7787C119,-49.6134 119,-39.9517 119,-31.3097\"/>\n<polygon fill=\"#000000\" stroke=\"#000000\" points=\"122.5001,-31.1732 119,-21.1732 115.5001,-31.1732 122.5001,-31.1732\"/>\n</g>\n<!-- 140439643530408 -->\n<g id=\"node3\" class=\"node\">\n<title>140439643530408</title>\n<polygon fill=\"#add8e6\" stroke=\"#000000\" points=\"54,-148 0,-148 0,-114 54,-114 54,-148\"/>\n<text text-anchor=\"middle\" x=\"27\" y=\"-134.4\" font-family=\"Times,serif\" font-size=\"12.00\" fill=\"#000000\">fc2.bias</text>\n<text text-anchor=\"middle\" x=\"27\" y=\"-121.4\" font-family=\"Times,serif\" font-size=\"12.00\" fill=\"#000000\"> (2)</text>\n</g>\n<!-- 140439643530408&#45;&gt;140439643532312 -->\n<g id=\"edge2\" class=\"edge\">\n<title>140439643530408&#45;&gt;140439643532312</title>\n<path fill=\"none\" stroke=\"#000000\" d=\"M51.6543,-113.9832C65.1894,-104.641 81.8926,-93.1122 95.278,-83.8734\"/>\n<polygon fill=\"#000000\" stroke=\"#000000\" points=\"97.2865,-86.7398 103.5283,-78.1788 93.3102,-80.9788 97.2865,-86.7398\"/>\n</g>\n<!-- 140439643529960 -->\n<g id=\"node4\" class=\"node\">\n<title>140439643529960</title>\n<polygon fill=\"#d3d3d3\" stroke=\"#000000\" points=\"166,-141.5 72,-141.5 72,-120.5 166,-120.5 166,-141.5\"/>\n<text text-anchor=\"middle\" x=\"119\" y=\"-127.9\" font-family=\"Times,serif\" font-size=\"12.00\" fill=\"#000000\">ReluBackward0</text>\n</g>\n<!-- 140439643529960&#45;&gt;140439643532312 -->\n<g id=\"edge3\" class=\"edge\">\n<title>140439643529960&#45;&gt;140439643532312</title>\n<path fill=\"none\" stroke=\"#000000\" d=\"M119,-120.2281C119,-111.5091 119,-98.9699 119,-88.3068\"/>\n<polygon fill=\"#000000\" stroke=\"#000000\" points=\"122.5001,-88.1128 119,-78.1128 115.5001,-88.1129 122.5001,-88.1128\"/>\n</g>\n<!-- 140439643532928 -->\n<g id=\"node5\" class=\"node\">\n<title>140439643532928</title>\n<polygon fill=\"#d3d3d3\" stroke=\"#000000\" points=\"170,-211.5 66,-211.5 66,-190.5 170,-190.5 170,-211.5\"/>\n<text text-anchor=\"middle\" x=\"118\" y=\"-197.9\" font-family=\"Times,serif\" font-size=\"12.00\" fill=\"#000000\">AddmmBackward</text>\n</g>\n<!-- 140439643532928&#45;&gt;140439643529960 -->\n<g id=\"edge4\" class=\"edge\">\n<title>140439643532928&#45;&gt;140439643529960</title>\n<path fill=\"none\" stroke=\"#000000\" d=\"M118.1519,-190.3685C118.2972,-180.1925 118.5206,-164.5606 118.7016,-151.8912\"/>\n<polygon fill=\"#000000\" stroke=\"#000000\" points=\"122.2034,-151.7806 118.8467,-141.7315 115.2041,-151.6805 122.2034,-151.7806\"/>\n</g>\n<!-- 140439643531192 -->\n<g id=\"node6\" class=\"node\">\n<title>140439643531192</title>\n<polygon fill=\"#add8e6\" stroke=\"#000000\" points=\"104,-288 50,-288 50,-254 104,-254 104,-288\"/>\n<text text-anchor=\"middle\" x=\"77\" y=\"-274.4\" font-family=\"Times,serif\" font-size=\"12.00\" fill=\"#000000\">fc1.bias</text>\n<text text-anchor=\"middle\" x=\"77\" y=\"-261.4\" font-family=\"Times,serif\" font-size=\"12.00\" fill=\"#000000\"> (5)</text>\n</g>\n<!-- 140439643531192&#45;&gt;140439643532928 -->\n<g id=\"edge5\" class=\"edge\">\n<title>140439643531192&#45;&gt;140439643532928</title>\n<path fill=\"none\" stroke=\"#000000\" d=\"M87.1348,-253.6966C93.0172,-243.6535 100.4448,-230.9722 106.5395,-220.5667\"/>\n<polygon fill=\"#000000\" stroke=\"#000000\" points=\"109.6454,-222.189 111.6794,-211.7913 103.6052,-218.6512 109.6454,-222.189\"/>\n</g>\n<!-- 140439643532480 -->\n<g id=\"node7\" class=\"node\">\n<title>140439643532480</title>\n<polygon fill=\"#d3d3d3\" stroke=\"#000000\" points=\"195.5,-281.5 122.5,-281.5 122.5,-260.5 195.5,-260.5 195.5,-281.5\"/>\n<text text-anchor=\"middle\" x=\"159\" y=\"-267.9\" font-family=\"Times,serif\" font-size=\"12.00\" fill=\"#000000\">TBackward</text>\n</g>\n<!-- 140439643532480&#45;&gt;140439643532928 -->\n<g id=\"edge6\" class=\"edge\">\n<title>140439643532480&#45;&gt;140439643532928</title>\n<path fill=\"none\" stroke=\"#000000\" d=\"M152.773,-260.3685C146.5719,-249.7814 136.9119,-233.2886 129.3456,-220.3705\"/>\n<polygon fill=\"#000000\" stroke=\"#000000\" points=\"132.3598,-218.5915 124.2856,-211.7315 126.3196,-222.1293 132.3598,-218.5915\"/>\n</g>\n<!-- 140439643390024 -->\n<g id=\"node8\" class=\"node\">\n<title>140439643390024</title>\n<polygon fill=\"#add8e6\" stroke=\"#000000\" points=\"192.5,-358 125.5,-358 125.5,-324 192.5,-324 192.5,-358\"/>\n<text text-anchor=\"middle\" x=\"159\" y=\"-344.4\" font-family=\"Times,serif\" font-size=\"12.00\" fill=\"#000000\">fc1.weight</text>\n<text text-anchor=\"middle\" x=\"159\" y=\"-331.4\" font-family=\"Times,serif\" font-size=\"12.00\" fill=\"#000000\"> (5, 10)</text>\n</g>\n<!-- 140439643390024&#45;&gt;140439643532480 -->\n<g id=\"edge7\" class=\"edge\">\n<title>140439643390024&#45;&gt;140439643532480</title>\n<path fill=\"none\" stroke=\"#000000\" d=\"M159,-323.6966C159,-314.0634 159,-302.003 159,-291.8518\"/>\n<polygon fill=\"#000000\" stroke=\"#000000\" points=\"162.5001,-291.7912 159,-281.7913 155.5001,-291.7913 162.5001,-291.7912\"/>\n</g>\n<!-- 140439643531416 -->\n<g id=\"node9\" class=\"node\">\n<title>140439643531416</title>\n<polygon fill=\"#d3d3d3\" stroke=\"#000000\" points=\"258.5,-141.5 185.5,-141.5 185.5,-120.5 258.5,-120.5 258.5,-141.5\"/>\n<text text-anchor=\"middle\" x=\"222\" y=\"-127.9\" font-family=\"Times,serif\" font-size=\"12.00\" fill=\"#000000\">TBackward</text>\n</g>\n<!-- 140439643531416&#45;&gt;140439643532312 -->\n<g id=\"edge8\" class=\"edge\">\n<title>140439643531416&#45;&gt;140439643532312</title>\n<path fill=\"none\" stroke=\"#000000\" d=\"M204.5275,-120.2281C188.1519,-110.1325 163.4682,-94.9149 144.8209,-83.4187\"/>\n<polygon fill=\"#000000\" stroke=\"#000000\" points=\"146.5636,-80.3814 136.2145,-78.1128 142.8901,-86.3401 146.5636,-80.3814\"/>\n</g>\n<!-- 140439643530912 -->\n<g id=\"node10\" class=\"node\">\n<title>140439643530912</title>\n<polygon fill=\"#add8e6\" stroke=\"#000000\" points=\"255.5,-218 188.5,-218 188.5,-184 255.5,-184 255.5,-218\"/>\n<text text-anchor=\"middle\" x=\"222\" y=\"-204.4\" font-family=\"Times,serif\" font-size=\"12.00\" fill=\"#000000\">fc2.weight</text>\n<text text-anchor=\"middle\" x=\"222\" y=\"-191.4\" font-family=\"Times,serif\" font-size=\"12.00\" fill=\"#000000\"> (2, 5)</text>\n</g>\n<!-- 140439643530912&#45;&gt;140439643531416 -->\n<g id=\"edge9\" class=\"edge\">\n<title>140439643530912&#45;&gt;140439643531416</title>\n<path fill=\"none\" stroke=\"#000000\" d=\"M222,-183.6966C222,-174.0634 222,-162.003 222,-151.8518\"/>\n<polygon fill=\"#000000\" stroke=\"#000000\" points=\"225.5001,-151.7912 222,-141.7913 218.5001,-151.7913 225.5001,-151.7912\"/>\n</g>\n</g>\n</svg>\n"
          },
          "metadata": {
            "tags": []
          },
          "execution_count": 10
        }
      ]
    },
    {
      "cell_type": "code",
      "metadata": {
        "id": "d5adhk4vrB1V"
      },
      "source": [
        ""
      ],
      "execution_count": null,
      "outputs": []
    }
  ]
}