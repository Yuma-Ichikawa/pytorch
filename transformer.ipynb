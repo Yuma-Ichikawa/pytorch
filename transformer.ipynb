{
  "nbformat": 4,
  "nbformat_minor": 0,
  "metadata": {
    "colab": {
      "name": "transformer.ipynb",
      "provenance": [],
      "collapsed_sections": [],
      "authorship_tag": "ABX9TyM140nHFPi69DBIhfY/TYlB",
      "include_colab_link": true
    },
    "kernelspec": {
      "name": "python3",
      "display_name": "Python 3"
    },
    "widgets": {
      "application/vnd.jupyter.widget-state+json": {
        "7ee801476ef04ac8b62168e3e1374f49": {
          "model_module": "@jupyter-widgets/controls",
          "model_name": "HBoxModel",
          "state": {
            "_view_name": "HBoxView",
            "_dom_classes": [],
            "_model_name": "HBoxModel",
            "_view_module": "@jupyter-widgets/controls",
            "_model_module_version": "1.5.0",
            "_view_count": null,
            "_view_module_version": "1.5.0",
            "box_style": "",
            "layout": "IPY_MODEL_70382e7ca0a44d9a8ca82faf9217c9b2",
            "_model_module": "@jupyter-widgets/controls",
            "children": [
              "IPY_MODEL_0abebd892e174ddbb3fd0a3ef638c65d",
              "IPY_MODEL_dfb7fd7661b347b6b7d1a6cddc215895"
            ]
          }
        },
        "70382e7ca0a44d9a8ca82faf9217c9b2": {
          "model_module": "@jupyter-widgets/base",
          "model_name": "LayoutModel",
          "state": {
            "_view_name": "LayoutView",
            "grid_template_rows": null,
            "right": null,
            "justify_content": null,
            "_view_module": "@jupyter-widgets/base",
            "overflow": null,
            "_model_module_version": "1.2.0",
            "_view_count": null,
            "flex_flow": null,
            "width": null,
            "min_width": null,
            "border": null,
            "align_items": null,
            "bottom": null,
            "_model_module": "@jupyter-widgets/base",
            "top": null,
            "grid_column": null,
            "overflow_y": null,
            "overflow_x": null,
            "grid_auto_flow": null,
            "grid_area": null,
            "grid_template_columns": null,
            "flex": null,
            "_model_name": "LayoutModel",
            "justify_items": null,
            "grid_row": null,
            "max_height": null,
            "align_content": null,
            "visibility": null,
            "align_self": null,
            "height": null,
            "min_height": null,
            "padding": null,
            "grid_auto_rows": null,
            "grid_gap": null,
            "max_width": null,
            "order": null,
            "_view_module_version": "1.2.0",
            "grid_template_areas": null,
            "object_position": null,
            "object_fit": null,
            "grid_auto_columns": null,
            "margin": null,
            "display": null,
            "left": null
          }
        },
        "0abebd892e174ddbb3fd0a3ef638c65d": {
          "model_module": "@jupyter-widgets/controls",
          "model_name": "FloatProgressModel",
          "state": {
            "_view_name": "ProgressView",
            "style": "IPY_MODEL_090a738d057c4ff1b420b465409a01f5",
            "_dom_classes": [],
            "description": "",
            "_model_name": "FloatProgressModel",
            "bar_style": "success",
            "max": 1,
            "_view_module": "@jupyter-widgets/controls",
            "_model_module_version": "1.5.0",
            "value": 1,
            "_view_count": null,
            "_view_module_version": "1.5.0",
            "orientation": "horizontal",
            "min": 0,
            "description_tooltip": null,
            "_model_module": "@jupyter-widgets/controls",
            "layout": "IPY_MODEL_327a4e8bce504aa1a49f636b5dde9444"
          }
        },
        "dfb7fd7661b347b6b7d1a6cddc215895": {
          "model_module": "@jupyter-widgets/controls",
          "model_name": "HTMLModel",
          "state": {
            "_view_name": "HTMLView",
            "style": "IPY_MODEL_450e8890d6f54d6f9d96554c4dd66fb0",
            "_dom_classes": [],
            "description": "",
            "_model_name": "HTMLModel",
            "placeholder": "​",
            "_view_module": "@jupyter-widgets/controls",
            "_model_module_version": "1.5.0",
            "value": " 170500096/? [00:05&lt;00:00, 31037388.24it/s]",
            "_view_count": null,
            "_view_module_version": "1.5.0",
            "description_tooltip": null,
            "_model_module": "@jupyter-widgets/controls",
            "layout": "IPY_MODEL_24b317847ce64bd1897b894b204e0fe3"
          }
        },
        "090a738d057c4ff1b420b465409a01f5": {
          "model_module": "@jupyter-widgets/controls",
          "model_name": "ProgressStyleModel",
          "state": {
            "_view_name": "StyleView",
            "_model_name": "ProgressStyleModel",
            "description_width": "initial",
            "_view_module": "@jupyter-widgets/base",
            "_model_module_version": "1.5.0",
            "_view_count": null,
            "_view_module_version": "1.2.0",
            "bar_color": null,
            "_model_module": "@jupyter-widgets/controls"
          }
        },
        "327a4e8bce504aa1a49f636b5dde9444": {
          "model_module": "@jupyter-widgets/base",
          "model_name": "LayoutModel",
          "state": {
            "_view_name": "LayoutView",
            "grid_template_rows": null,
            "right": null,
            "justify_content": null,
            "_view_module": "@jupyter-widgets/base",
            "overflow": null,
            "_model_module_version": "1.2.0",
            "_view_count": null,
            "flex_flow": null,
            "width": null,
            "min_width": null,
            "border": null,
            "align_items": null,
            "bottom": null,
            "_model_module": "@jupyter-widgets/base",
            "top": null,
            "grid_column": null,
            "overflow_y": null,
            "overflow_x": null,
            "grid_auto_flow": null,
            "grid_area": null,
            "grid_template_columns": null,
            "flex": null,
            "_model_name": "LayoutModel",
            "justify_items": null,
            "grid_row": null,
            "max_height": null,
            "align_content": null,
            "visibility": null,
            "align_self": null,
            "height": null,
            "min_height": null,
            "padding": null,
            "grid_auto_rows": null,
            "grid_gap": null,
            "max_width": null,
            "order": null,
            "_view_module_version": "1.2.0",
            "grid_template_areas": null,
            "object_position": null,
            "object_fit": null,
            "grid_auto_columns": null,
            "margin": null,
            "display": null,
            "left": null
          }
        },
        "450e8890d6f54d6f9d96554c4dd66fb0": {
          "model_module": "@jupyter-widgets/controls",
          "model_name": "DescriptionStyleModel",
          "state": {
            "_view_name": "StyleView",
            "_model_name": "DescriptionStyleModel",
            "description_width": "",
            "_view_module": "@jupyter-widgets/base",
            "_model_module_version": "1.5.0",
            "_view_count": null,
            "_view_module_version": "1.2.0",
            "_model_module": "@jupyter-widgets/controls"
          }
        },
        "24b317847ce64bd1897b894b204e0fe3": {
          "model_module": "@jupyter-widgets/base",
          "model_name": "LayoutModel",
          "state": {
            "_view_name": "LayoutView",
            "grid_template_rows": null,
            "right": null,
            "justify_content": null,
            "_view_module": "@jupyter-widgets/base",
            "overflow": null,
            "_model_module_version": "1.2.0",
            "_view_count": null,
            "flex_flow": null,
            "width": null,
            "min_width": null,
            "border": null,
            "align_items": null,
            "bottom": null,
            "_model_module": "@jupyter-widgets/base",
            "top": null,
            "grid_column": null,
            "overflow_y": null,
            "overflow_x": null,
            "grid_auto_flow": null,
            "grid_area": null,
            "grid_template_columns": null,
            "flex": null,
            "_model_name": "LayoutModel",
            "justify_items": null,
            "grid_row": null,
            "max_height": null,
            "align_content": null,
            "visibility": null,
            "align_self": null,
            "height": null,
            "min_height": null,
            "padding": null,
            "grid_auto_rows": null,
            "grid_gap": null,
            "max_width": null,
            "order": null,
            "_view_module_version": "1.2.0",
            "grid_template_areas": null,
            "object_position": null,
            "object_fit": null,
            "grid_auto_columns": null,
            "margin": null,
            "display": null,
            "left": null
          }
        }
      }
    }
  },
  "cells": [
    {
      "cell_type": "markdown",
      "metadata": {
        "id": "view-in-github",
        "colab_type": "text"
      },
      "source": [
        "<a href=\"https://colab.research.google.com/github/Yuma-Ichikawa/pytorch/blob/master/transformer.ipynb\" target=\"_parent\"><img src=\"https://colab.research.google.com/assets/colab-badge.svg\" alt=\"Open In Colab\"/></a>"
      ]
    },
    {
      "cell_type": "markdown",
      "metadata": {
        "id": "is97wYzM01eH"
      },
      "source": [
        "## Transformerによる前処理\n",
        "\n",
        "Pytorchは、画像データを処理する場合、前処理をデータセットを作成する前に定義する必要があります。\n",
        "\n",
        "ただ、Tensorに変更するだけなら、datasetsの引数にToTensor()とするだけで良いです。"
      ]
    },
    {
      "cell_type": "code",
      "metadata": {
        "id": "gQmW5zOp2z1v"
      },
      "source": [
        "import torch\n",
        "import torchvision\n",
        "import torch.nn as nn\n",
        "import torch.nn.functional as F\n",
        "import torch.optim as optim\n",
        "import torchvision.transforms as transforms\n",
        "import numpy as np\n",
        "\n",
        "import matplotlib.pyplot as plt\n",
        "%matplotlib inline"
      ],
      "execution_count": null,
      "outputs": []
    },
    {
      "cell_type": "markdown",
      "metadata": {
        "id": "giNkXchVCtpe"
      },
      "source": [
        "### サンプルをプロットする関数を定義"
      ]
    },
    {
      "cell_type": "code",
      "metadata": {
        "id": "7j4K1zaazQEj"
      },
      "source": [
        "def plot_figs(image0, image1, image2):\n",
        "    fig, axes = plt.subplots(1, 3, figsize=(18, 6))\n",
        "    axes[0].imshow(image0)\n",
        "    axes[1].imshow(image1)\n",
        "    axes[2].imshow(image2)\n",
        "    axes[0].axis('off')\n",
        "    axes[1].axis('off')\n",
        "    axes[2].axis('off')\n",
        "    plt.show()"
      ],
      "execution_count": null,
      "outputs": []
    },
    {
      "cell_type": "markdown",
      "metadata": {
        "id": "VRnvnWKAC0Qy"
      },
      "source": [
        "### 使用するサンプルデータ"
      ]
    },
    {
      "cell_type": "code",
      "metadata": {
        "colab": {
          "base_uri": "https://localhost:8080/",
          "height": 103,
          "referenced_widgets": [
            "7ee801476ef04ac8b62168e3e1374f49",
            "70382e7ca0a44d9a8ca82faf9217c9b2",
            "0abebd892e174ddbb3fd0a3ef638c65d",
            "dfb7fd7661b347b6b7d1a6cddc215895",
            "090a738d057c4ff1b420b465409a01f5",
            "327a4e8bce504aa1a49f636b5dde9444",
            "450e8890d6f54d6f9d96554c4dd66fb0",
            "24b317847ce64bd1897b894b204e0fe3"
          ]
        },
        "id": "nL0Wu8sx3rNq",
        "outputId": "0d8d41e9-6042-47c8-eb42-03183902e523"
      },
      "source": [
        "cifar10 = torchvision.datasets.CIFAR10(root='cifar10_root', train=True, download=True)"
      ],
      "execution_count": null,
      "outputs": [
        {
          "output_type": "stream",
          "text": [
            "Downloading https://www.cs.toronto.edu/~kriz/cifar-10-python.tar.gz to cifar10_root/cifar-10-python.tar.gz\n"
          ],
          "name": "stdout"
        },
        {
          "output_type": "display_data",
          "data": {
            "application/vnd.jupyter.widget-view+json": {
              "model_id": "7ee801476ef04ac8b62168e3e1374f49",
              "version_minor": 0,
              "version_major": 2
            },
            "text/plain": [
              "HBox(children=(FloatProgress(value=1.0, bar_style='info', max=1.0), HTML(value='')))"
            ]
          },
          "metadata": {
            "tags": []
          }
        },
        {
          "output_type": "stream",
          "text": [
            "Extracting cifar10_root/cifar-10-python.tar.gz to cifar10_root\n"
          ],
          "name": "stdout"
        }
      ]
    },
    {
      "cell_type": "code",
      "metadata": {
        "colab": {
          "base_uri": "https://localhost:8080/",
          "height": 392
        },
        "id": "Mbyk9ujt4QGJ",
        "outputId": "2726d2b0-ce24-401f-ee3e-342b64a10efc"
      },
      "source": [
        "image, label = cifar10[0]\n",
        "\n",
        "fig, ax = plt.subplots(figsize=(6, 6))\n",
        "ax.imshow(image)\n",
        "ax.set_title('cifar10, label=6', fontsize=15)\n",
        "ax.axis('off')\n",
        "plt.show()"
      ],
      "execution_count": null,
      "outputs": [
        {
          "output_type": "display_data",
          "data": {
            "image/png": "[encoded data removed]",
            "text/plain": [
              "<Figure size 432x432 with 1 Axes>"
            ]
          },
          "metadata": {
            "tags": [],
            "needs_background": "light"
          }
        },
        {
          "output_type": "stream",
          "text": [
            "\n"
          ],
          "name": "stdout"
        }
      ]
    },
    {
      "cell_type": "markdown",
      "metadata": {
        "id": "VmpVMWg6C3HW"
      },
      "source": [
        "## 画像をTransformで変換する方法"
      ]
    },
    {
      "cell_type": "markdown",
      "metadata": {
        "id": "l9k_4RTrnyTN"
      },
      "source": [
        "### ToTensor \n",
        "\n",
        "PIL Image、ndarrayをTensorに変換\n",
        "\n",
        "具体的には、縦×横×チャネルで画素値が[0, 255]の画像を[C, H, W]で値の範囲を[0, 1.0]のTensorに変換"
      ]
    },
    {
      "cell_type": "code",
      "metadata": {
        "id": "lWLLHxz8OD1s"
      },
      "source": [
        "totensor = transforms.ToTensor()\n",
        "tensor = totensor(image)"
      ],
      "execution_count": null,
      "outputs": []
    },
    {
      "cell_type": "code",
      "metadata": {
        "colab": {
          "base_uri": "https://localhost:8080/",
          "height": 392
        },
        "id": "WNrb4aGaoh-X",
        "outputId": "a2226794-fcb8-435d-9dd5-586627fb147d"
      },
      "source": [
        "print(tensor.size())\n",
        "\n",
        "fig, ax = plt.subplots(figsize=(6, 6))\n",
        "ax.imshow(tensor[0])\n",
        "ax.set_title('chanel=1', fontsize=15)\n",
        "ax.axis('off')\n",
        "plt.show()"
      ],
      "execution_count": null,
      "outputs": [
        {
          "output_type": "stream",
          "text": [
            "torch.Size([3, 32, 32])\n"
          ],
          "name": "stdout"
        },
        {
          "output_type": "display_data",
          "data": {
            "image/png": "[encoded data removed]",
            "text/plain": [
              "<Figure size 432x432 with 1 Axes>"
            ]
          },
          "metadata": {
            "tags": [],
            "needs_background": "light"
          }
        }
      ]
    },
    {
      "cell_type": "markdown",
      "metadata": {
        "id": "SKuKZ_hTqE0V"
      },
      "source": [
        "### RandomRotation\n",
        "\n",
        "ランダムな角度で回転させる\n",
        "\n",
        "- degrees : 回転させる角度の範囲（タプルで指定）\n",
        "- center : 回転の中心位置\n",
        "- expand : Trueにすると回転した画像が収まるように出力する"
      ]
    },
    {
      "cell_type": "code",
      "metadata": {
        "colab": {
          "base_uri": "https://localhost:8080/",
          "height": 212
        },
        "id": "zspLxwOKrHlE",
        "outputId": "522fb41f-de37-4f85-f212-046f35495b3b"
      },
      "source": [
        "rotation1 = transforms.RandomRotation(90)\n",
        "rotation2 = transforms.RandomRotation(degrees=(-90, 90), center=(0,0), expand=True)\n",
        "\n",
        "image_rotated1 = rotation1(image)\n",
        "image_rotated2 = rotation2(image)\n",
        "\n",
        "plot_figs(image, image_rotated1, image_rotated2)"
      ],
      "execution_count": null,
      "outputs": [
        {
          "output_type": "display_data",
          "data": {
            "image/png": "[encoded data removed]",
            "text/plain": [
              "<Figure size 1296x432 with 3 Axes>"
            ]
          },
          "metadata": {
            "tags": [],
            "needs_background": "light"
          }
        }
      ]
    },
    {
      "cell_type": "markdown",
      "metadata": {
        "id": "caopWIUA3WLY"
      },
      "source": [
        "### Grayscale\n",
        "\n",
        "- num_out_channels : 出力のチャネル数"
      ]
    },
    {
      "cell_type": "code",
      "metadata": {
        "id": "S0BFw45P3oni",
        "colab": {
          "base_uri": "https://localhost:8080/",
          "height": 208
        },
        "outputId": "1fb704e0-11a4-4613-d7f4-1f849ba2d274"
      },
      "source": [
        "gray1 = transforms.Grayscale(num_output_channels=1)\n",
        "gray2 = transforms.Grayscale(num_output_channels=3) \n",
        "\n",
        "image_gray1 = gray1(image)\n",
        "image_gray2 = gray2(image)\n",
        "\n",
        "plot_figs(image, image_gray1, image_gray2)"
      ],
      "execution_count": null,
      "outputs": [
        {
          "output_type": "display_data",
          "data": {
            "image/png": "[encoded data removed]",
            "text/plain": [
              "<Figure size 1296x432 with 3 Axes>"
            ]
          },
          "metadata": {
            "tags": [],
            "needs_background": "light"
          }
        }
      ]
    },
    {
      "cell_type": "markdown",
      "metadata": {
        "id": "jJVhXCJP47rY"
      },
      "source": [
        "### RandomAffine\n",
        "\n",
        "ランダムにアフィン変換を行います\n",
        "\n",
        "- degree : 回転角度の指定\n",
        "- translate : (x方向の移動, y方向の移動)\n",
        "- scale : スケール変換の設定\n",
        "- shear: せん断"
      ]
    },
    {
      "cell_type": "code",
      "metadata": {
        "colab": {
          "base_uri": "https://localhost:8080/",
          "height": 208
        },
        "id": "jR1xHvqG6BtN",
        "outputId": "a1ddced7-a5ea-4143-ffde-3ade4d1944bf"
      },
      "source": [
        "affine1 = transforms.RandomAffine(degrees=(-30, 30), scale=(0.5, 2.5))\n",
        "affine2 = transforms.RandomAffine(degrees=(-30, 30), translate=(0.1, 0.1), scale=(0.5, 1.5), shear=(-0.1, 0.1))\n",
        "\n",
        "image_affine1 = affine1(image)\n",
        "image_affine2 = affine2(image)\n",
        "\n",
        "plot_figs(image, image_affine1, image_affine2)"
      ],
      "execution_count": null,
      "outputs": [
        {
          "output_type": "display_data",
          "data": {
            "image/png": "[encoded data removed]",
            "text/plain": [
              "<Figure size 1296x432 with 3 Axes>"
            ]
          },
          "metadata": {
            "tags": [],
            "needs_background": "light"
          }
        }
      ]
    },
    {
      "cell_type": "markdown",
      "metadata": {
        "id": "VqXpoIqfwkDV"
      },
      "source": [
        "### Random.RandomVerticalFlip\n",
        "\n",
        "- p : 垂直方向に反転する確率"
      ]
    },
    {
      "cell_type": "code",
      "metadata": {
        "colab": {
          "base_uri": "https://localhost:8080/",
          "height": 208
        },
        "id": "KNSc_HrhwjO5",
        "outputId": "6904b56d-6cea-4e91-d07b-a9c1bff75f7c"
      },
      "source": [
        "vflip1 = transforms.RandomVerticalFlip(p=0.8)\n",
        "\n",
        "image_vflip1 = vflip1(image)\n",
        "image_vflip2 = vflip1(image)\n",
        "\n",
        "plot_figs(image, image_vflip1, image_vflip2)"
      ],
      "execution_count": null,
      "outputs": [
        {
          "output_type": "display_data",
          "data": {
            "image/png": "[encoded data removed]",
            "text/plain": [
              "<Figure size 1296x432 with 3 Axes>"
            ]
          },
          "metadata": {
            "tags": [],
            "needs_background": "light"
          }
        }
      ]
    },
    {
      "cell_type": "code",
      "metadata": {
        "colab": {
          "base_uri": "https://localhost:8080/",
          "height": 208
        },
        "id": "Qt_Lr_e0xZAD",
        "outputId": "8d5eb57f-1f49-4e58-8a84-38fcc1bf966d"
      },
      "source": [
        "hflip1 = transforms.RandomHorizontalFlip(p=0.8)\n",
        "\n",
        "image_hflip1 = hflip1(image)\n",
        "image_hflip2 = hflip1(image)\n",
        "\n",
        "plot_figs(image, image_hflip1, image_hflip2)"
      ],
      "execution_count": null,
      "outputs": [
        {
          "output_type": "display_data",
          "data": {
            "image/png": "[encoded data removed]",
            "text/plain": [
              "<Figure size 1296x432 with 3 Axes>"
            ]
          },
          "metadata": {
            "tags": [],
            "needs_background": "light"
          }
        }
      ]
    },
    {
      "cell_type": "markdown",
      "metadata": {
        "id": "EeB5jnd2DNl5"
      },
      "source": [
        "## TensorをTransformで変換する方法"
      ]
    },
    {
      "cell_type": "markdown",
      "metadata": {
        "id": "_i1xfGg1o_lQ"
      },
      "source": [
        "### Normalize\n",
        "\n",
        "指定した平均、標準偏差でTensorを正規化する\n",
        "\n",
        "- mean : 各チャネルの平均\n",
        "- std : 各チャネルの標準偏差"
      ]
    },
    {
      "cell_type": "code",
      "metadata": {
        "id": "xPbDcJJJo900"
      },
      "source": [
        "norm = transforms.Normalize(mean=[0, 0, 0], std=[1.0, 1.0, 1.0])\n",
        "normed_tensor = norm(tensor)"
      ],
      "execution_count": null,
      "outputs": []
    },
    {
      "cell_type": "markdown",
      "metadata": {
        "id": "1d8B_fam9QO3"
      },
      "source": [
        "### ToPILImage"
      ]
    },
    {
      "cell_type": "code",
      "metadata": {
        "colab": {
          "base_uri": "https://localhost:8080/",
          "height": 357
        },
        "id": "oGuOwEFr9Knv",
        "outputId": "297dec16-99e2-4aa3-9071-62af89bb950d"
      },
      "source": [
        "PIL = transforms.ToPILImage()\n",
        "image = PIL(tensor)\n",
        "\n",
        "fig, ax = plt.subplots(figsize=(6, 6))\n",
        "ax.imshow(image)\n",
        "ax.axis('off')\n",
        "plt.show()"
      ],
      "execution_count": null,
      "outputs": [
        {
          "output_type": "display_data",
          "data": {
            "image/png": "[encoded data removed]",
            "text/plain": [
              "<Figure size 432x432 with 1 Axes>"
            ]
          },
          "metadata": {
            "tags": [],
            "needs_background": "light"
          }
        }
      ]
    },
    {
      "cell_type": "markdown",
      "metadata": {
        "id": "vVcsr8M13DaM"
      },
      "source": [
        "### 複数の前処理を画像に施したい場合は、下記のクラスを使用します\n",
        "\n",
        "1.   Compose : 先頭から順番に実行\n",
        "2.   RandomAppy : 複数のTransformを指定した確率を行う\n",
        "3.   RandomChoice : 複数のTransformから１つを選択して行う\n",
        "\n"
      ]
    },
    {
      "cell_type": "code",
      "metadata": {
        "id": "rqeBAHRS2uau",
        "colab": {
          "base_uri": "https://localhost:8080/"
        },
        "outputId": "9ed54158-b553-4314-dfa5-2dbbcf230657"
      },
      "source": [
        "affine = transforms.RandomAffine(degrees=(-10, 10), scale=(0.9, 1.1))\n",
        "totensor = transforms.ToTensor()\n",
        "normalize = transforms.Normalize((0.0, 0.0, 0.0), (1.0, 1.0, 1.0))  \n",
        "\n",
        "trans = transforms.Compose([affine, totensor, normalize])\n",
        "data = trans(image)\n",
        "\n",
        "print(data.size())"
      ],
      "execution_count": null,
      "outputs": [
        {
          "output_type": "stream",
          "text": [
            "torch.Size([3, 32, 32])\n"
          ],
          "name": "stdout"
        }
      ]
    },
    {
      "cell_type": "markdown",
      "metadata": {
        "id": "8THy6R0-OIqK"
      },
      "source": [
        "## 自作Transformer\n",
        "\n",
        "Lambdaを使用することで自作の関数を渡し、自作Transformerを作成することができます。\n",
        "\n"
      ]
    },
    {
      "cell_type": "code",
      "metadata": {
        "colab": {
          "base_uri": "https://localhost:8080/"
        },
        "id": "t1VR_oq-BK62",
        "outputId": "f7c3b7f2-5299-43b1-8913-1f2c121c8e40"
      },
      "source": [
        "# 自作関数\n",
        "def square(x):\n",
        "    x = x**2\n",
        "    return x\n",
        "\n",
        "# sample\n",
        "data = torch.tensor([1, 2, 3, 4])\n",
        "\n",
        "# Lambdaクラスを使用\n",
        "square = transforms.Lambda(square)\n",
        "squared_data = square(data)\n",
        "\n",
        "print(squared_data)"
      ],
      "execution_count": null,
      "outputs": [
        {
          "output_type": "stream",
          "text": [
            "tensor([ 1,  4,  9, 16])\n"
          ],
          "name": "stdout"
        }
      ]
    }
  ]
}